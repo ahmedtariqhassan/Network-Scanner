{
 "cells": [
  {
   "cell_type": "code",
   "execution_count": 4,
   "metadata": {},
   "outputs": [
    {
     "name": "stdout",
     "output_type": "stream",
     "text": [
      "[('192.168.0.1', 23), ('192.168.0.1', 80), ('192.168.0.1', 5431), ('192.168.0.2', 1106), ('192.168.0.2', 1802), ('192.168.0.2', 1847), ('192.168.0.2', 7000), ('192.168.0.2', 11111), ('192.168.0.2', 18181), ('192.168.0.2', 36866)]\n"
     ]
    }
   ],
   "source": [
    "import socket\n",
    "import threading\n",
    "\n",
    "class PortScanner:\n",
    "    def __init__(self, ip, port):\n",
    "        self.ip = ip\n",
    "        self.port = port\n",
    "\n",
    "    def scan(self):\n",
    "        try:\n",
    "            sock = socket.socket(socket.AF_INET, socket.SOCK_STREAM)\n",
    "            sock.settimeout(1)\n",
    "            result = sock.connect_ex((self.ip, self.port))\n",
    "            if result == 0:\n",
    "                return True\n",
    "            else:\n",
    "                return False\n",
    "        except:\n",
    "            return False\n",
    "\n",
    "class IPScanner:\n",
    "    def __init__(self, ip_range, num_threads=20):\n",
    "        self.ip_range = ip_range\n",
    "        self.num_threads = num_threads\n",
    "        self.open_ports = []\n",
    "\n",
    "    def scan_port(self, ip, port):\n",
    "        port_scanner = PortScanner(ip, port)\n",
    "        if port_scanner.scan():\n",
    "            self.open_ports.append((ip, port))\n",
    "\n",
    "    def scan_ip(self, ip):\n",
    "        threads = []\n",
    "        for port in range(1, 65536):\n",
    "            t = threading.Thread(target=self.scan_port, args=(ip, port))\n",
    "            threads.append(t)\n",
    "        for t in threads:\n",
    "            t.start()\n",
    "        for t in threads:\n",
    "            t.join()\n",
    "\n",
    "    def scan(self):\n",
    "        for ip in self.ip_range:\n",
    "            self.scan_ip(ip)\n",
    "        return self.open_ports\n",
    "\n",
    "ip_range = ['192.168.0.1', '192.168.0.2', '192.168.0.3']\n",
    "ip_scanner = IPScanner(ip_range)\n",
    "open_ports = ip_scanner.scan()\n",
    "print(open_ports)\n"
   ]
  }
 ],
 "metadata": {
  "kernelspec": {
   "display_name": "Python 3.9.5 64-bit",
   "language": "python",
   "name": "python3"
  },
  "language_info": {
   "codemirror_mode": {
    "name": "ipython",
    "version": 3
   },
   "file_extension": ".py",
   "mimetype": "text/x-python",
   "name": "python",
   "nbconvert_exporter": "python",
   "pygments_lexer": "ipython3",
   "version": "3.9.5"
  },
  "orig_nbformat": 4,
  "vscode": {
   "interpreter": {
    "hash": "aee8b7b246df8f9039afb4144a1f6fd8d2ca17a180786b69acc140d282b71a49"
   }
  }
 },
 "nbformat": 4,
 "nbformat_minor": 2
}
