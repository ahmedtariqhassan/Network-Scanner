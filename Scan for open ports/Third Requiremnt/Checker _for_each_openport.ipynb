{
 "cells": [
  {
   "cell_type": "code",
   "execution_count": 2,
   "metadata": {},
   "outputs": [],
   "source": [
    "import socket"
   ]
  },
  {
   "cell_type": "code",
   "execution_count": 6,
   "metadata": {},
   "outputs": [],
   "source": [
    "def is_up(ip):\n",
    "    # Check if the IP is up\n",
    "    try:\n",
    "        socket.gethostbyaddr(ip)\n",
    "        return True\n",
    "    except socket.error:\n",
    "        return False"
   ]
  },
  {
   "cell_type": "code",
   "execution_count": 10,
   "metadata": {},
   "outputs": [],
   "source": [
    "def check_port(ip, port):\n",
    "    # Check if the port is open\n",
    "    sock = socket.socket(socket.AF_INET, socket.SOCK_STREAM)\n",
    "    sock.settimeout(1)\n",
    "    try:\n",
    "        result = sock.connect_ex((ip, port))\n",
    "        if result == 0:\n",
    "            return True\n",
    "        else:\n",
    "            return False\n",
    "    except:\n",
    "        return False"
   ]
  },
  {
   "cell_type": "code",
   "execution_count": 12,
   "metadata": {},
   "outputs": [],
   "source": [
    "\n",
    "def check_all_ports(ip):\n",
    "    # Check all open ports on the given IP\n",
    "    open_ports = []\n",
    "    for port in range(1, 65536):\n",
    "        if check_port(ip, port):\n",
    "            open_ports.append(port)\n",
    "    return open_ports"
   ]
  },
  {
   "cell_type": "code",
   "execution_count": 14,
   "metadata": {},
   "outputs": [],
   "source": [
    "def check_all_ips(ip_range):\n",
    "    # Check all IPs in the given range for open ports\n",
    "    open_ports_by_ip = {}\n",
    "    for ip in ip_range:\n",
    "        if is_up(ip):\n",
    "            open_ports = check_all_ports(ip)\n",
    "            open_ports_by_ip[ip] = open_ports\n",
    "    return open_ports_by_ip"
   ]
  }
 ],
 "metadata": {
  "kernelspec": {
   "display_name": "Python 3.9.5 64-bit",
   "language": "python",
   "name": "python3"
  },
  "language_info": {
   "codemirror_mode": {
    "name": "ipython",
    "version": 3
   },
   "file_extension": ".py",
   "mimetype": "text/x-python",
   "name": "python",
   "nbconvert_exporter": "python",
   "pygments_lexer": "ipython3",
   "version": "3.9.5"
  },
  "orig_nbformat": 4,
  "vscode": {
   "interpreter": {
    "hash": "aee8b7b246df8f9039afb4144a1f6fd8d2ca17a180786b69acc140d282b71a49"
   }
  }
 },
 "nbformat": 4,
 "nbformat_minor": 2
}
