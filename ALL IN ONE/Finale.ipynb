{
 "cells": [
  {
   "cell_type": "code",
   "execution_count": 4,
   "metadata": {},
   "outputs": [
    {
     "name": "stdout",
     "output_type": "stream",
     "text": [
      "Scanning IP address: 192.168.0.1\n",
      "Port 23 is open on 192.168.0.1\n",
      "Port 80 is open on 192.168.0.1\n",
      "Scanning IP address: 192.168.0.2\n",
      "Scanning IP address: 192.168.0.3\n"
     ]
    }
   ],
   "source": [
    "import socket\n",
    "import nmap\n",
    "import subprocess\n",
    "\n",
    "# Define the IP address range to scan\n",
    "ip_range = ['192.168.0.1', '192.168.0.2', '192.168.0.3']\n",
    "\n",
    "# Define the range of ports to scan\n",
    "port_range = range(1, 100)\n",
    "\n",
    "# Define a function to check if a port is open\n",
    "def check_port(ip, port):\n",
    "    sock = socket.socket(socket.AF_INET, socket.SOCK_STREAM)\n",
    "    sock.settimeout(1)\n",
    "    result = sock.connect_ex((ip, port))\n",
    "    if result == 0:\n",
    "        print(f\"Port {port} is open on {ip}\")\n",
    "    sock.close()\n",
    "\n",
    "# Scan all IP addresses in the range\n",
    "for ip in ip_range:\n",
    "    print(f\"Scanning IP address: {ip}\")\n",
    "    # Scan all ports in the range for the current IP address\n",
    "    for port in port_range:\n",
    "        check_port(ip, port)\n",
    "\n"
   ]
  },
  {
   "cell_type": "code",
   "execution_count": 5,
   "metadata": {},
   "outputs": [],
   "source": [
    "def check_ip(ip):\n",
    "    # Send a ping request to the IP address and wait for a response\n",
    "    result = subprocess.call(['ping', '-c', '1', '-w', '1', ip], stdout=subprocess.DEVNULL, stderr=subprocess.DEVNULL)\n",
    "    if result == 0:\n",
    "        return True  # The IP address is up\n",
    "    else:\n",
    "        return False  # The IP address is down\n",
    "\n",
    "        "
   ]
  },
  {
   "cell_type": "code",
   "execution_count": 7,
   "metadata": {},
   "outputs": [],
   "source": [
    "ip_range = ['192.168.0.1', '192.168.0.2', '192.168.0.3']\n",
    "port_range = range(1, 100)\n",
    "def check_port(ip, port):\n",
    "    sock = socket.socket(socket.AF_INET, socket.SOCK_STREAM)\n",
    "    sock.settimeout(1)\n",
    "    result = sock.connect_ex((ip, port))\n",
    "    if result == 0:\n",
    "        print(f\"Port {port} is open on {ip}\")\n",
    "    sock.close()\n",
    "    for ip in ip_range:\n",
    "     print(f\"Scanning IP address: {ip}\")\n",
    "    for port in port_range:\n",
    "        check_port(ip, port)"
   ]
  },
  {
   "cell_type": "code",
   "execution_count": 12,
   "metadata": {},
   "outputs": [],
   "source": [
    "def is_up(ip):\n",
    "    # Check if the IP is up\n",
    "    try:\n",
    "        socket.gethostbyaddr(ip)\n",
    "        return True\n",
    "    except socket.error:\n",
    "        return False\n",
    "def check_port(ip, port):\n",
    "    # Check if the port is open\n",
    "    sock = socket.socket(socket.AF_INET, socket.SOCK_STREAM)\n",
    "    sock.settimeout(1)\n",
    "    try:\n",
    "        result = sock.connect_ex((ip, port))\n",
    "        if result == 0:\n",
    "            return True\n",
    "        else:\n",
    "            return False\n",
    "    except:\n",
    "        return False\n",
    "def check_all_ports(ip):\n",
    "    # Check all open ports on the given IP\n",
    "    open_ports = []\n",
    "    for port in range(1, 65536):\n",
    "        if check_port(ip, port):\n",
    "            open_ports.append(port)\n",
    "    return open_ports\n",
    "def check_all_ips(ip_range):\n",
    "    # Check all IPs in the given range for open ports\n",
    "    open_ports_by_ip = {}\n",
    "    for ip in ip_range:\n",
    "        if is_up(ip):\n",
    "            open_ports = check_all_ports(ip)\n",
    "            open_ports_by_ip[ip] = open_ports\n",
    "    return open_ports_by_ip"
   ]
  },
  {
   "cell_type": "code",
   "execution_count": 13,
   "metadata": {},
   "outputs": [
    {
     "name": "stdout",
     "output_type": "stream",
     "text": [
      "[('192.168.0.1', 23), ('192.168.0.1', 80), ('192.168.0.1', 5431), ('192.168.0.2', 1106), ('192.168.0.2', 1543), ('192.168.0.2', 1558), ('192.168.0.2', 1802), ('192.168.0.2', 1847), ('192.168.0.2', 1919), ('192.168.0.2', 3001), ('192.168.0.2', 3000), ('192.168.0.2', 7000), ('192.168.0.2', 11111), ('192.168.0.2', 18181), ('192.168.0.2', 25454), ('192.168.0.2', 36866), ('192.168.0.2', 42868), ('192.168.0.3', 49152)]\n"
     ]
    }
   ],
   "source": [
    "import socket\n",
    "import threading\n",
    "\n",
    "class PortScanner:\n",
    "    def __init__(self, ip, port):\n",
    "        self.ip = ip\n",
    "        self.port = port\n",
    "\n",
    "    def scan(self):\n",
    "        try:\n",
    "            sock = socket.socket(socket.AF_INET, socket.SOCK_STREAM)\n",
    "            sock.settimeout(1)\n",
    "            result = sock.connect_ex((self.ip, self.port))\n",
    "            if result == 0:\n",
    "                return True\n",
    "            else:\n",
    "                return False\n",
    "        except:\n",
    "            return False\n",
    "\n",
    "class IPScanner:\n",
    "    def __init__(self, ip_range, num_threads=20):\n",
    "        self.ip_range = ip_range\n",
    "        self.num_threads = num_threads\n",
    "        self.open_ports = []\n",
    "\n",
    "    def scan_port(self, ip, port):\n",
    "        port_scanner = PortScanner(ip, port)\n",
    "        if port_scanner.scan():\n",
    "            self.open_ports.append((ip, port))\n",
    "\n",
    "    def scan_ip(self, ip):\n",
    "        threads = []\n",
    "        for port in range(1, 65536):\n",
    "            t = threading.Thread(target=self.scan_port, args=(ip, port))\n",
    "            threads.append(t)\n",
    "        for t in threads:\n",
    "            t.start()\n",
    "        for t in threads:\n",
    "            t.join()\n",
    "\n",
    "    def scan(self):\n",
    "        for ip in self.ip_range:\n",
    "            self.scan_ip(ip)\n",
    "        return self.open_ports\n",
    "\n",
    "ip_range = ['192.168.0.1', '192.168.0.2', '192.168.0.3']\n",
    "ip_scanner = IPScanner(ip_range)\n",
    "open_ports = ip_scanner.scan()\n",
    "print(open_ports)\n"
   ]
  },
  {
   "cell_type": "code",
   "execution_count": 14,
   "metadata": {},
   "outputs": [],
   "source": [
    "\n",
    "def scan_vulnerabilities(ip):\n",
    "    scanner = nmap.PortScanner()\n",
    "    scanner.scan(ip, arguments='-sV --script vulners')\n",
    "    vulnerabilities = []\n",
    "    \n",
    "    for host in scanner.all_hosts():\n",
    "        for vuln in scanner[host]['vulners']:\n",
    "            vulnerabilities.append({\n",
    "                'ip': host,\n",
    "                'port': vuln['port'],\n",
    "                'name': vuln['name'],\n",
    "                'summary': vuln['summary']\n",
    "            })\n",
    "    return vulnerabilities\n"
   ]
  }
 ],
 "metadata": {
  "kernelspec": {
   "display_name": "Python 3.9.5 64-bit",
   "language": "python",
   "name": "python3"
  },
  "language_info": {
   "codemirror_mode": {
    "name": "ipython",
    "version": 3
   },
   "file_extension": ".py",
   "mimetype": "text/x-python",
   "name": "python",
   "nbconvert_exporter": "python",
   "pygments_lexer": "ipython3",
   "version": "3.9.5"
  },
  "orig_nbformat": 4,
  "vscode": {
   "interpreter": {
    "hash": "aee8b7b246df8f9039afb4144a1f6fd8d2ca17a180786b69acc140d282b71a49"
   }
  }
 },
 "nbformat": 4,
 "nbformat_minor": 2
}
