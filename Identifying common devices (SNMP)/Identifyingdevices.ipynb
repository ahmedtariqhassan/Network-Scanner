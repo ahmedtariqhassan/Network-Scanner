{
 "cells": [
  {
   "cell_type": "code",
   "execution_count": 2,
   "metadata": {},
   "outputs": [],
   "source": [
    "from pysnmp.hlapi import *\n",
    "\n",
    "def snmp_query(ip, community):\n",
    "    errorIndication, errorStatus, errorIndex, varBinds = next(\n",
    "        getCmd(SnmpEngine(),\n",
    "               CommunityData(community),\n",
    "               UdpTransportTarget((ip, 161)),\n",
    "               ContextData(),\n",
    "               ObjectType(ObjectIdentity('SNMPv2-MIB', 'sysDescr', 0)))\n",
    "    )\n",
    "\n",
    "    if errorIndication:\n",
    "        return 'SNMP Error: %s' % errorIndication\n",
    "\n",
    "    if errorStatus:\n",
    "        return 'SNMP Error: %s at %s' % (errorStatus.prettyPrint(),\n",
    "                                         errorIndex and varBinds[int(errorIndex) - 1][0] or '?')\n",
    "\n",
    "    return str(varBinds[0][1])\n",
    "\n"
   ]
  }
 ],
 "metadata": {
  "kernelspec": {
   "display_name": "Python 3.9.5 64-bit",
   "language": "python",
   "name": "python3"
  },
  "language_info": {
   "codemirror_mode": {
    "name": "ipython",
    "version": 3
   },
   "file_extension": ".py",
   "mimetype": "text/x-python",
   "name": "python",
   "nbconvert_exporter": "python",
   "pygments_lexer": "ipython3",
   "version": "3.9.5"
  },
  "orig_nbformat": 4,
  "vscode": {
   "interpreter": {
    "hash": "aee8b7b246df8f9039afb4144a1f6fd8d2ca17a180786b69acc140d282b71a49"
   }
  }
 },
 "nbformat": 4,
 "nbformat_minor": 2
}
