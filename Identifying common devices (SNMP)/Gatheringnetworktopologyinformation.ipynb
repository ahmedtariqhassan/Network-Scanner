{
 "cells": [
  {
   "cell_type": "code",
   "execution_count": 2,
   "metadata": {},
   "outputs": [
    {
     "ename": "AttributeError",
     "evalue": "module 'nmap' has no attribute 'PortScanner'",
     "output_type": "error",
     "traceback": [
      "\u001b[0;31m---------------------------------------------------------------------------\u001b[0m",
      "\u001b[0;31mAttributeError\u001b[0m                            Traceback (most recent call last)",
      "Cell \u001b[0;32mIn[2], line 3\u001b[0m\n\u001b[1;32m      1\u001b[0m \u001b[38;5;28;01mimport\u001b[39;00m \u001b[38;5;21;01mnmap\u001b[39;00m\n\u001b[0;32m----> 3\u001b[0m nm \u001b[38;5;241m=\u001b[39m \u001b[43mnmap\u001b[49m\u001b[38;5;241;43m.\u001b[39;49m\u001b[43mPortScanner\u001b[49m()\n\u001b[1;32m      5\u001b[0m \u001b[38;5;66;03m# Scan the network for devices\u001b[39;00m\n\u001b[1;32m      6\u001b[0m nm\u001b[38;5;241m.\u001b[39mscan(hosts\u001b[38;5;241m=\u001b[39m\u001b[38;5;124m'\u001b[39m\u001b[38;5;124m192.168.1.0/24\u001b[39m\u001b[38;5;124m'\u001b[39m, arguments\u001b[38;5;241m=\u001b[39m\u001b[38;5;124m'\u001b[39m\u001b[38;5;124m-sn\u001b[39m\u001b[38;5;124m'\u001b[39m)\n",
      "\u001b[0;31mAttributeError\u001b[0m: module 'nmap' has no attribute 'PortScanner'"
     ]
    }
   ],
   "source": [
    "import nmap\n",
    "\n",
    "nm = nmap.PortScanner()\n",
    "\n",
    "# Scan the network for devices\n",
    "nm.scan(hosts='192.168.1.0/24', arguments='-sn')\n",
    "\n",
    "# Print out the IP addresses of discovered devices\n",
    "for host in nm.all_hosts():\n",
    "    print('Host : %s (%s)' % (host, nm[host].hostname()))\n",
    "    print('  State : %s' % nm[host].state())\n"
   ]
  }
 ],
 "metadata": {
  "kernelspec": {
   "display_name": "Python 3.9.5 64-bit",
   "language": "python",
   "name": "python3"
  },
  "language_info": {
   "codemirror_mode": {
    "name": "ipython",
    "version": 3
   },
   "file_extension": ".py",
   "mimetype": "text/x-python",
   "name": "python",
   "nbconvert_exporter": "python",
   "pygments_lexer": "ipython3",
   "version": "3.9.5"
  },
  "orig_nbformat": 4,
  "vscode": {
   "interpreter": {
    "hash": "aee8b7b246df8f9039afb4144a1f6fd8d2ca17a180786b69acc140d282b71a49"
   }
  }
 },
 "nbformat": 4,
 "nbformat_minor": 2
}
