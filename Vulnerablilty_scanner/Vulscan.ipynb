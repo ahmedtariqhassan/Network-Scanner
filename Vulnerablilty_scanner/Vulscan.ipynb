{
 "cells": [
  {
   "cell_type": "code",
   "execution_count": 1,
   "metadata": {},
   "outputs": [],
   "source": [
    "import nmap\n",
    "\n",
    "def scan_vulnerabilities(ip):\n",
    "    scanner = nmap.PortScanner()\n",
    "    scanner.scan(ip, arguments='-sV --script vulners')\n",
    "    vulnerabilities = []\n",
    "    \n",
    "    for host in scanner.all_hosts():\n",
    "        for vuln in scanner[host]['vulners']:\n",
    "            vulnerabilities.append({\n",
    "                'ip': host,\n",
    "                'port': vuln['port'],\n",
    "                'name': vuln['name'],\n",
    "                'summary': vuln['summary']\n",
    "            })\n",
    "    return vulnerabilities\n"
   ]
  }
 ],
 "metadata": {
  "kernelspec": {
   "display_name": "Python 3.9.5 64-bit",
   "language": "python",
   "name": "python3"
  },
  "language_info": {
   "codemirror_mode": {
    "name": "ipython",
    "version": 3
   },
   "file_extension": ".py",
   "mimetype": "text/x-python",
   "name": "python",
   "nbconvert_exporter": "python",
   "pygments_lexer": "ipython3",
   "version": "3.9.5"
  },
  "orig_nbformat": 4,
  "vscode": {
   "interpreter": {
    "hash": "aee8b7b246df8f9039afb4144a1f6fd8d2ca17a180786b69acc140d282b71a49"
   }
  }
 },
 "nbformat": 4,
 "nbformat_minor": 2
}
